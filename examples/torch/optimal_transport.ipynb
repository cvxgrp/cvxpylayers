{
 "cells": [
  {
   "cell_type": "code",
   "execution_count": 186,
   "metadata": {},
   "outputs": [],
   "source": [
    "from cvxpylayers.torch import CvxpyLayer\n",
    "import torch\n",
    "import cvxpy as cp\n",
    "import numpy as np\n",
    "import matplotlib.pyplot as plt\n",
    "\n",
    "torch.set_default_dtype(torch.double)"
   ]
  },
  {
   "cell_type": "markdown",
   "metadata": {},
   "source": [
    "## Differentiable optimal transport\n",
    "\n",
    "Suppose we have two one-dimensional probability distributions, $\\nu$ and $\\eta$, defined\n",
    "by their supports $x\\in\\mathbf{R}^n$, $y\\in\\mathbf{R}^m$, and probability weight vectors $a\\in\\mathbf{R}_+^n$, $b\\in\\mathbf{R}_+^m$.\n",
    "That is, $\\nu=x_i$ with probability $a_i$, and\n",
    "$\\eta=y_j$ with probability $b_j$.\n",
    "\n",
    "In optimal transport, the goal is to find a matrix $P\\in\\mathbf{R}_+^{n\\times m}$ (the set of nonnegative $n$ by $m$ matrices) that *transports*\n",
    "$\\nu$ into $\\eta$. The entry $P_{ij}$ tells us how much of the probability mass at $x_i$\n",
    "that we transfer to $y_j$. We have two constraints:\n",
    "* $\\sum_{j} P_{ij} = a_i$, $i=1,\\ldots,n$, which requires that the mass leaving $x_i$ is equal to the mass available, $a_i$.\n",
    "* $\\sum_{i} P_{ij} = b_j$, $j=1,\\ldots,m$, which requires that the mass entering $y_i$ is equal to the mass there, $b_j$.\n",
    "\n",
    "For each mass transfer $P_{ij}$, we associate a cost $C_{ij} = h(x_i - y_j)$, where $h(d)$ measures\n",
    "the cost of transferring a unit a distance $d$. An example is $h(d)=d^2$; in this case $C_{ij}$ measures\n",
    "the squared difference between $x_i$ and $y_j$.\n",
    "\n",
    "We can find the (regularized) optimal transport between $\\nu$ and $\\eta$ by solving the optimization problem\n",
    "\\begin{equation}\n",
    "\\begin{array}{ll}\n",
    "\\mbox{minimize} & \\mathbf{tr}(C^TP) - \\varepsilon H(P), \\\\\n",
    "\\mbox{subject to} & P \\in \\mathbf{R}_+^{n \\times m}, \\\\\n",
    "& P\\mathbf{1}=a, \\quad P^T\\mathbf{1}=b.\n",
    "\\end{array}\n",
    "\\end{equation}\n",
    "where $H(P) = -\\sum_{ij} P_{ij} (\\log(P_{ij}) - 1)$ is an entropy regularization function and $\\varepsilon > 0$ is a hyper-parameter.\n",
    "This is a convex optimization problem.\n",
    "\n",
    "See:\n",
    "Leonid Kantorovich. On the transfer of masses (in russian). Doklady Akademii Nauk, 37(2): 227–229, 1942"
   ]
  },
  {
   "cell_type": "code",
   "execution_count": 187,
   "metadata": {},
   "outputs": [],
   "source": [
    "def get_regularized_ot(n, m):\n",
    "    C = cp.Parameter((n, m))\n",
    "    a = cp.Parameter(n)\n",
    "    b = cp.Parameter(m)\n",
    "    P = cp.Variable((n, m))\n",
    "    eps = cp.Parameter(1, nonneg=True)\n",
    "\n",
    "    H = lambda P: cp.sum(cp.entr(P)) + cp.sum(P)\n",
    "    objective = cp.trace(P.T @ C) - eps * H(P)\n",
    "\n",
    "    prob = cp.Problem(cp.Minimize(objective), [P@np.ones(m) == a, P.T@np.ones(n) == b, P >= 0])\n",
    "\n",
    "    layer = CvxpyLayer(prob, [C, a, b, eps], [P])\n",
    "    def f(x, y, a, b, eps, h=lambda d: d.pow(2)):\n",
    "        \"\"\"Regularized optimal transport.\n",
    "\n",
    "        x: n-vector\n",
    "        y: m-vector\n",
    "        a: n-vector of probabilities\n",
    "        b: m-vector of probabilities\n",
    "        eps: scalar, amount of regularization\n",
    "        \"\"\"\n",
    "        C = h(x[:,None] - y[None,:])\n",
    "        return layer(C, a, b, eps)[0]\n",
    "    return f"
   ]
  },
  {
   "cell_type": "markdown",
   "metadata": {},
   "source": [
    "### Example"
   ]
  },
  {
   "cell_type": "code",
   "execution_count": 188,
   "metadata": {},
   "outputs": [],
   "source": [
    "n, m = 3, 3\n",
    "regularized_ot = get_regularized_ot(n, m)"
   ]
  },
  {
   "cell_type": "code",
   "execution_count": 189,
   "metadata": {},
   "outputs": [],
   "source": [
    "torch.manual_seed(6)\n",
    "x = torch.randn(n, requires_grad=True)\n",
    "y = torch.randn(m, requires_grad=True)\n",
    "a = torch.full((n,), 1./n, requires_grad=True)\n",
    "b = torch.full((m,), 1./m, requires_grad=True)\n",
    "eps = torch.tensor([1.], requires_grad=True)"
   ]
  },
  {
   "cell_type": "code",
   "execution_count": 190,
   "metadata": {},
   "outputs": [
    {
     "data": {
      "text/plain": [
       "<BarContainer object of 3 artists>"
      ]
     },
     "execution_count": 190,
     "metadata": {},
     "output_type": "execute_result"
    },
    {
     "data": {
      "image/png": "[encoded data removed]",
      "text/plain": [
       "<Figure size 432x288 with 1 Axes>"
      ]
     },
     "metadata": {
      "needs_background": "light"
     },
     "output_type": "display_data"
    }
   ],
   "source": [
    "plt.xlim(-2,2)\n",
    "plt.bar(x.detach().numpy(), a.detach().numpy(), width=.05)\n",
    "plt.bar(y.detach().numpy(), b.detach().numpy(), width=.05)"
   ]
  },
  {
   "cell_type": "code",
   "execution_count": 191,
   "metadata": {},
   "outputs": [
    {
     "name": "stdout",
     "output_type": "stream",
     "text": [
      "WARN: aa_init returned NULL, no acceleration applied.\n"
     ]
    }
   ],
   "source": [
    "P = regularized_ot(x, y, a, b, eps)"
   ]
  },
  {
   "cell_type": "code",
   "execution_count": 192,
   "metadata": {},
   "outputs": [
    {
     "data": {
      "text/plain": [
       "tensor([-1.8744, -0.9937,  0.7185], requires_grad=True)"
      ]
     },
     "execution_count": 192,
     "metadata": {},
     "output_type": "execute_result"
    }
   ],
   "source": [
    "x"
   ]
  },
  {
   "cell_type": "code",
   "execution_count": 193,
   "metadata": {},
   "outputs": [
    {
     "data": {
      "text/plain": [
       "tensor([-0.6985, -1.4716,  0.1777], requires_grad=True)"
      ]
     },
     "execution_count": 193,
     "metadata": {},
     "output_type": "execute_result"
    }
   ],
   "source": [
    "y"
   ]
  },
  {
   "cell_type": "code",
   "execution_count": 194,
   "metadata": {},
   "outputs": [
    {
     "name": "stdout",
     "output_type": "stream",
     "text": [
      "tensor([[0.1007, 0.2269, 0.0058],\n",
      "        [0.1807, 0.1043, 0.0483],\n",
      "        [0.0520, 0.0021, 0.2792]], grad_fn=<_CvxpyLayerFnFnBackward>)\n"
     ]
    }
   ],
   "source": [
    "print(P)"
   ]
  },
  {
   "cell_type": "code",
   "execution_count": 195,
   "metadata": {},
   "outputs": [],
   "source": [
    "# What would we have to do to increase the mass that we transfer from x = .7185 to y=.1777\n",
    "P[2,2].backward()"
   ]
  },
  {
   "cell_type": "code",
   "execution_count": 196,
   "metadata": {},
   "outputs": [
    {
     "data": {
      "text/plain": [
       "tensor([-0.0010, -0.0401,  0.0411])"
      ]
     },
     "execution_count": 196,
     "metadata": {},
     "output_type": "execute_result"
    }
   ],
   "source": [
    "# increase x[2] and decrease x[0:2]\n",
    "x.grad"
   ]
  },
  {
   "cell_type": "code",
   "execution_count": 197,
   "metadata": {},
   "outputs": [
    {
     "data": {
      "text/plain": [
       "tensor([-0.0826,  0.0007,  0.0819])"
      ]
     },
     "execution_count": 197,
     "metadata": {},
     "output_type": "execute_result"
    }
   ],
   "source": [
    "# increase y[2] and decrease y[0], but increase y[1]?\n",
    "y.grad"
   ]
  }
 ],
 "metadata": {
  "kernelspec": {
   "display_name": "Python 3",
   "language": "python",
   "name": "python3"
  },
  "language_info": {
   "codemirror_mode": {
    "name": "ipython",
    "version": 3
   },
   "file_extension": ".py",
   "mimetype": "text/x-python",
   "name": "python",
   "nbconvert_exporter": "python",
   "pygments_lexer": "ipython3",
   "version": "3.7.3"
  }
 },
 "nbformat": 4,
 "nbformat_minor": 2
}
